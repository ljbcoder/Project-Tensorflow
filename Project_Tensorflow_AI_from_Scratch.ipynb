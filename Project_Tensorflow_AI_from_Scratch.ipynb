{
  "nbformat": 4,
  "nbformat_minor": 0,
  "metadata": {
    "colab": {
      "provenance": [],
      "authorship_tag": "ABX9TyP7+QsCahOoEk/wQAaDIT6O",
      "include_colab_link": true
    },
    "kernelspec": {
      "name": "python3",
      "display_name": "Python 3"
    },
    "language_info": {
      "name": "python"
    }
  },
  "cells": [
    {
      "cell_type": "markdown",
      "metadata": {
        "id": "view-in-github",
        "colab_type": "text"
      },
      "source": [
        "<a href=\"https://colab.research.google.com/github/ljbcoder/Project-Tensorflow/blob/main/Project_Tensorflow_AI_from_Scratch.ipynb\" target=\"_parent\"><img src=\"https://colab.research.google.com/assets/colab-badge.svg\" alt=\"Open In Colab\"/></a>"
      ]
    },
    {
      "cell_type": "code",
      "source": [
        "#What's Going on: Directly Under the Hood\n",
        "import numpy as np\n",
        "\n",
        "I = np.array([[0.05,.10]])\n",
        "T = np.array([[0,1]])\n",
        "WH = np.array([[0.15, 0.25],\n",
        "               [0.2,0.3]])\n",
        "\n",
        "BH = np.array([[0.35,0.35]])\n",
        "WO = np.array([[0.4, 0.5],\n",
        "               [0.45,0.55]])\n",
        "BO = np.array([[0.6,.6]])\n",
        "\n",
        "for epoch in range(100000):\n",
        "  print(epoch)\n",
        "\n",
        "  #Apply sigmoid to first layer\n",
        "  H = I @ WH + BH\n",
        "  H = 1/(1+np.exp(-H))\n",
        "\n",
        "  #Apply Softmax for second layer\n",
        "  O = H @ WO + BO\n",
        "  OM = O - np.max(O)\n",
        "  O = np.exp(OM)/np.sum(np.exp(OM))\n",
        "\n",
        "  E = np.sum(-T*np.log(O))\n",
        "  if E < 0.0001:\n",
        "    break\n",
        "\n",
        "  Ob = O - T\n",
        "  #Nothing for softmax cross entropy error\n",
        "\n",
        "  Hb = Ob @ WO.T\n",
        "  Hb = Hb * H * (1-H)\n",
        "\n",
        "  WHb = I.T @ Hb\n",
        "  BHb = 1* Hb\n",
        "  WOb = H.T @ Ob\n",
        "  BOb = 1 * Ob\n",
        "\n",
        "  lr = 0.01\n",
        "  WH = WH - lr * WHb\n",
        "  BH = BH - lr * BHb\n",
        "  WO = WO - lr * WOb\n",
        "  BO = BO - lr - BOb\n",
        "\n",
        "\n"
      ],
      "metadata": {
        "id": "mi5kWcIWqHHb"
      },
      "execution_count": null,
      "outputs": []
    },
    {
      "cell_type": "markdown",
      "source": [
        "# **FINAL CODE**"
      ],
      "metadata": {
        "id": "8f-QwhcYCjQp"
      }
    },
    {
      "cell_type": "code",
      "source": [
        "import numpy as np\n",
        "import pandas as pd\n",
        "from matplotlib import pyplot as plt"
      ],
      "metadata": {
        "id": "ww4fmNlykgMs"
      },
      "execution_count": 1,
      "outputs": []
    },
    {
      "cell_type": "code",
      "source": [
        "from tensorflow.keras.datasets import mnist\n",
        "from tensorflow.keras.utils import to_categorical\n",
        "\n",
        "# Load data\n",
        "(x_train, y_train), (x_test, y_test) = mnist.load_data()\n",
        "\n",
        "# Normalize and reshape\n",
        "x_train = x_train.reshape(-1, 28*28).T / 255.0  # shape: (784, num_samples)\n",
        "x_test = x_test.reshape(-1, 28*28).T / 255.0\n",
        "\n",
        "# One-hot encode labels\n",
        "y_train = to_categorical(y_train).T  # shape: (10, num_samples)\n",
        "y_test = to_categorical(y_test).T\n"
      ],
      "metadata": {
        "id": "p9ctQJqIkoFa",
        "colab": {
          "base_uri": "https://localhost:8080/"
        },
        "outputId": "2d5980e0-8107-4afa-c6e5-af82cf1a2427"
      },
      "execution_count": 2,
      "outputs": [
        {
          "output_type": "stream",
          "name": "stdout",
          "text": [
            "Downloading data from https://storage.googleapis.com/tensorflow/tf-keras-datasets/mnist.npz\n",
            "\u001b[1m11490434/11490434\u001b[0m \u001b[32m━━━━━━━━━━━━━━━━━━━━\u001b[0m\u001b[37m\u001b[0m \u001b[1m0s\u001b[0m 0us/step\n"
          ]
        }
      ]
    },
    {
      "cell_type": "code",
      "source": [
        "#Each image corresponds to a column of x --> 28x28 pixels / 60000 images\n",
        "#Each Label corresponds to a column of y --> 10 categories / 60000 labels\n",
        "print(\"Shape of x_train: \",x_train.shape)\n",
        "print(\"Shape of y_train: \",y_train.shape)\n",
        "print(\"Shape of x_test: \",x_test.shape)\n",
        "print(\"Shape of y_test: \",y_test.shape)\n"
      ],
      "metadata": {
        "colab": {
          "base_uri": "https://localhost:8080/"
        },
        "id": "mKEiSHvUezuU",
        "outputId": "c588073c-9bbb-4747-f503-2c2ad22e3646"
      },
      "execution_count": 3,
      "outputs": [
        {
          "output_type": "stream",
          "name": "stdout",
          "text": [
            "Shape of x_train:  (784, 60000)\n",
            "Shape of y_train:  (10, 60000)\n",
            "Shape of x_test:  (784, 10000)\n",
            "Shape of y_test:  (10, 10000)\n"
          ]
        }
      ]
    },
    {
      "cell_type": "code",
      "source": [
        "def sigmoid(z):\n",
        "    return 1 / (1 + np.exp(-z))\n",
        "\n",
        "def sigmoid_derivative(z):\n",
        "    s = sigmoid(z)\n",
        "    return s * (1 - s)\n",
        "\n",
        "def relu(z):\n",
        "    return np.maximum(0, z)\n",
        "\n",
        "def relu_derivative(z):\n",
        "    return (z > 0).astype(float)\n",
        "\n",
        "def leaky_relu(x, alpha=0.01):\n",
        "    return np.where(x > 0, x, alpha * x)\n",
        "\n",
        "def leaky_relu_derivative(x, alpha=0.01):\n",
        "    return np.where(x > 0, 1, alpha)\n",
        "\n",
        "def softmax(z):\n",
        "    exp_z = np.exp(z - np.max(z, axis=0, keepdims=True))\n",
        "    return exp_z / np.sum(exp_z, axis=0, keepdims=True)\n",
        "\n",
        "#I put Softmax derivative as implicit: Cancels out with Cross entropy\n",
        "# def softmax_derivative(z):\n",
        "#     s = softmax(z)\n",
        "#     return s * (1 - s) --> This eventually cancels out with 1/s multiplied in the backpropagation step\n",
        "\n",
        "#Loss Functions\n",
        "def MSE(y_true, y_pred):\n",
        "    return np.mean((y_true - y_pred) ** 2)\n",
        "\n",
        "def MSE_derivative(y_true, y_pred):\n",
        "    return 2 * (y_pred - y_true)\n",
        "\n",
        "def cross_entropy(y_true, y_pred):\n",
        "    epsilon = 1e-10  # Small value to avoid log(0)\n",
        "    y_pred = np.clip(y_pred, epsilon, 1. - epsilon)  # Clip values to avoid log(0)\n",
        "    return -np.sum(y_true * np.log(y_pred))\n",
        "\n",
        "\n",
        "def cross_entropy_derivative(y_true, y_pred):\n",
        "    return y_pred - y_true\n",
        "\n",
        "class ModelLayer:\n",
        "    def __init__(self, output_size, activation='relu', input_size=None, learning_rate=0.001):\n",
        "        self.output_size = output_size\n",
        "        self.input_size = input_size  # Set later if None\n",
        "        self.activation_name = activation.lower()\n",
        "        self.activation = None\n",
        "        self.activation_derivative = None\n",
        "\n",
        "        self.learning_rate = learning_rate\n",
        "\n",
        "        self.weights = None  # Will be initialized when input_size is known\n",
        "        self.bias = None\n",
        "\n",
        "        self.input_vals = None\n",
        "        self.z = None\n",
        "\n",
        "    def build(self, input_size):\n",
        "        \"\"\"Initialize weights and biases once input size is known\"\"\"\n",
        "        self.input_size = input_size\n",
        "\n",
        "        if self.activation_name == 'relu':\n",
        "            # He initialization (Used mostly for relu, leaky relu) --> Weight initializations to avoid vanishing/exploding gradient\n",
        "            self.weights = np.random.randn(self.output_size, input_size) * np.sqrt(2. / input_size)\n",
        "            self.activation = relu\n",
        "            self.activation_derivative = relu_derivative\n",
        "\n",
        "        elif self.activation_name == 'leaky_relu':\n",
        "            # He initialization\n",
        "            self.weights = np.random.randn(self.output_size, input_size) * np.sqrt(2. / input_size)\n",
        "            self.activation = leaky_relu\n",
        "            self.activation_derivative = leaky_relu_derivative\n",
        "\n",
        "        elif self.activation_name == 'sigmoid':\n",
        "            # Xavier initialization -> (Used mostly for Sigmoid, tanh, softmax) --> Weight initializations to avoid vanishing/exploding gradient\n",
        "            self.weights = np.random.randn(self.output_size, input_size) * np.sqrt(1. / input_size)\n",
        "            self.activation = sigmoid\n",
        "            self.activation_derivative = sigmoid_derivative\n",
        "\n",
        "        elif self.activation_name == 'softmax':\n",
        "            # Xavier initialization\n",
        "            self.weights = np.random.randn(self.output_size, input_size) * np.sqrt(1. / input_size)\n",
        "            self.activation = softmax\n",
        "            self.activation_derivative = None\n",
        "        else:\n",
        "            raise ValueError(f\"Unsupported activation: {self.activation_name}\")\n",
        "\n",
        "        self.bias = np.zeros((self.output_size, 1))\n",
        "\n",
        "    #Forward Propagation\n",
        "    def pass_forward(self, input_vals):\n",
        "        if self.weights is None:\n",
        "            self.build(input_vals.shape[0])\n",
        "        self.input_vals = input_vals\n",
        "        self.z = np.dot(self.weights, input_vals) + self.bias\n",
        "        return self.activation(self.z)\n",
        "\n",
        "    #Backpropagation\n",
        "    def pass_backwards(self, dA):\n",
        "        if self.activation_name == 'softmax':\n",
        "            dZ = dA  # Softmax derivative is handled implicitly in cross-entropy\n",
        "        else:\n",
        "          dZ = dA * self.activation_derivative(self.z)\n",
        "\n",
        "        dW = np.dot(dZ, self.input_vals.T)\n",
        "        dB = np.sum(dZ, axis=1, keepdims=True)\n",
        "        dA_prev = np.dot(self.weights.T, dZ)\n",
        "\n",
        "        self.weights -= self.learning_rate * dW\n",
        "        self.bias -= self.learning_rate * dB\n",
        "\n",
        "        return dA_prev\n",
        "\n",
        "    def reset_weights(self):\n",
        "        self.build(self.input_size)\n",
        "\n",
        "class Model:\n",
        "    def __init__(self,layers = []):\n",
        "        self.layers = layers\n",
        "        self.built = False\n",
        "\n",
        "    def add(self, layer):\n",
        "        self.layers.append(layer)\n",
        "\n",
        "    #Builds layers after all layer_sizes have been set\n",
        "    def _build_layers(self, input_size):\n",
        "        for layer in self.layers:\n",
        "            if layer.input_size is None:\n",
        "                layer.build(input_size)\n",
        "            input_size = layer.output_size  # next layer's input\n",
        "\n",
        "    #Set optimizers and loss functions\n",
        "    def compile(self, optimizer, loss_function):\n",
        "        self.optimizer = optimizer.lower()\n",
        "\n",
        "        self.loss_function_name = loss_function.lower()\n",
        "\n",
        "        #Apply the loss function\n",
        "        if self.loss_function_name == 'mse':\n",
        "          self.loss_function = MSE\n",
        "          self.loss_function_derivative = MSE_derivative\n",
        "\n",
        "        elif self.loss_function_name == 'cross_entropy':\n",
        "          self.loss_function = cross_entropy\n",
        "          self.loss_function_derivative = cross_entropy_derivative\n",
        "\n",
        "        else:\n",
        "          raise ValueError(f\"Unsupported Loss Function: {loss_function}\")\n",
        "\n",
        "    #Forward Propagation\n",
        "    def forward(self, x):\n",
        "        if not self.built:\n",
        "            self._build_layers(x.shape[0])\n",
        "            self.built = True\n",
        "\n",
        "        for layer in self.layers:\n",
        "            x = layer.pass_forward(x)\n",
        "        return x\n",
        "\n",
        "    #Backpropagation\n",
        "    def backward(self, dLoss):\n",
        "        for layer in reversed(self.layers):\n",
        "            dLoss = layer.pass_backwards(dLoss)\n",
        "\n",
        "    #Train the model!\n",
        "    def train(self, x, y_true, epochs=20, batch_size = 100, print_every=1):\n",
        "        if self.optimizer == 'sgd':\n",
        "            for epoch in range(epochs):\n",
        "                for start in range(0, len(x[0]), batch_size):  # Process in batches of 100 samples\n",
        "                    x_batch = x[:, start:start+batch_size]  # Shape: (784, 100)\n",
        "                    y_batch = y_true[:, start:start+batch_size]  # Shape: (10, 100)\n",
        "\n",
        "                    # Forward pass\n",
        "                    y_pred = self.forward(x_batch)  # Shape: (10, 100)\n",
        "\n",
        "                    # Compute the loss for the entire batch\n",
        "                    loss = self.loss_function(y_batch, y_pred)  # Shape: (10, 100)\n",
        "                    dLoss = self.loss_function_derivative(y_batch, y_pred)\n",
        "\n",
        "                    # Backward pass\n",
        "                    self.backward(dLoss)\n",
        "\n",
        "                if epoch % print_every == 0 or epoch == epochs - 1:\n",
        "                    print(f\"Epoch {epoch}, Loss: {loss:.4f}\")\n",
        "\n",
        "        else:\n",
        "            raise ValueError(f\"Unsupported optimizer: {self.optimizer}\")\n",
        "\n",
        "    def reset_weights(self):\n",
        "        for layer in self.layers:\n",
        "            layer.reset_weights()\n",
        "\n",
        "    #Predictions are just forward propagations of a given input\n",
        "    def predict(self, x):\n",
        "      return self.forward(x)\n",
        "\n",
        "    #Evaluate the model on test data\n",
        "    def evaluate(self, x_test, y_test):\n",
        "      predictions = self.predict(x_test)  # Predict for inputs all at once (batch prediction)\n",
        "      predicted_classes = np.argmax(predictions, axis=0)  # axis=0 --> shape is (num_classes, num_samples)\n",
        "      true_classes = np.argmax(y_test, axis=0)\n",
        "\n",
        "      accuracy = np.mean(predicted_classes == true_classes)\n",
        "      return float(accuracy)\n",
        "\n",
        "\n",
        "\n"
      ],
      "metadata": {
        "id": "SpQZRAjiMKlf"
      },
      "execution_count": 22,
      "outputs": []
    },
    {
      "cell_type": "code",
      "source": [
        "    def evaluate(self,x_test, y_test):\n",
        "        correct = 0\n",
        "        for i in range(len(x_test[0])):\n",
        "            current_image = x_test[:, i, None]\n",
        "            prediction = self.predict(current_image)\n",
        "            label = y_test[:,i]\n",
        "            if np.argmax(prediction) == label:\n",
        "                correct += 1\n",
        "        return correct / len(x_test[0]) #Finding the average score of the values"
      ],
      "metadata": {
        "id": "4Hn2mWFBaOe1"
      },
      "execution_count": null,
      "outputs": []
    },
    {
      "cell_type": "code",
      "source": [
        "model = Model()\n",
        "model.add(ModelLayer(128, activation='relu'))\n",
        "model.add(ModelLayer(64, activation='relu'))\n",
        "model.add(ModelLayer(32, activation='relu'))\n",
        "model.add(ModelLayer(32, activation='relu'))\n",
        "model.add(ModelLayer(10, activation='softmax'))\n",
        "\n",
        "model.compile(optimizer=\"sgd\", loss_function=\"cross_entropy\")\n",
        "model.train(x_train[:, :2000], y_train[:, :2000], epochs=50, print_every=10)\n"
      ],
      "metadata": {
        "colab": {
          "base_uri": "https://localhost:8080/"
        },
        "id": "KzGHlhhImegv",
        "outputId": "c93e3cd8-1bcb-4363-ce6a-629c26e1298b"
      },
      "execution_count": 23,
      "outputs": [
        {
          "output_type": "stream",
          "name": "stdout",
          "text": [
            "Epoch 0, Loss: 166.0571\n",
            "Epoch 10, Loss: 10.5235\n",
            "Epoch 20, Loss: 1.6900\n",
            "Epoch 30, Loss: 0.6477\n",
            "Epoch 40, Loss: 0.3210\n",
            "Epoch 49, Loss: 0.2123\n"
          ]
        }
      ]
    },
    {
      "cell_type": "code",
      "source": [
        "import random\n",
        "\n",
        "def test_prediction(index):\n",
        "    current_image = x_test[:, index, None]\n",
        "    prediction = model.predict(current_image)\n",
        "    label = y_test[:,index]\n",
        "\n",
        "\n",
        "    print(\"Model Output: \\n\", prediction)\n",
        "    print(\"Prediction: \", np.argmax(prediction))\n",
        "    print(\"Label: \", np.argmax(label))\n",
        "\n",
        "    current_image = current_image.reshape((28, 28)) * 255\n",
        "    plt.gray()\n",
        "    plt.imshow(current_image, interpolation='nearest')\n",
        "    plt.show()\n",
        "\n",
        "\n",
        "test_prediction(np.random.randint(0,10000))"
      ],
      "metadata": {
        "colab": {
          "base_uri": "https://localhost:8080/",
          "height": 656
        },
        "id": "fWiUOywl-xNr",
        "outputId": "4ebfe18a-5977-4deb-dd81-cb2ed2165747"
      },
      "execution_count": 53,
      "outputs": [
        {
          "output_type": "stream",
          "name": "stdout",
          "text": [
            "Model Output: \n",
            " [[8.78315240e-06]\n",
            " [4.20717488e-08]\n",
            " [9.99799406e-01]\n",
            " [1.67140985e-04]\n",
            " [2.24411566e-09]\n",
            " [3.32277144e-10]\n",
            " [1.62514962e-06]\n",
            " [5.41996310e-11]\n",
            " [2.27947403e-05]\n",
            " [2.05508942e-07]]\n",
            "Prediction:  2\n",
            "Label:  2\n"
          ]
        },
        {
          "output_type": "display_data",
          "data": {
            "text/plain": [
              "<Figure size 640x480 with 1 Axes>"
            ],
            "image/png": "[encoded data removed]"
          },
          "metadata": {}
        }
      ]
    },
    {
      "cell_type": "code",
      "source": [
        "#Model Evaluation\n",
        "model.evaluate(x_test, y_test)"
      ],
      "metadata": {
        "colab": {
          "base_uri": "https://localhost:8080/"
        },
        "id": "y92cpGbQTlV6",
        "outputId": "ec716bd2-0e72-4553-fcf9-f11deaba4faa"
      },
      "execution_count": 17,
      "outputs": [
        {
          "output_type": "execute_result",
          "data": {
            "text/plain": [
              "0.9047"
            ]
          },
          "metadata": {},
          "execution_count": 17
        }
      ]
    },
    {
      "cell_type": "code",
      "source": [
        "y_test.shape"
      ],
      "metadata": {
        "colab": {
          "base_uri": "https://localhost:8080/"
        },
        "id": "pDmEjP5lgJew",
        "outputId": "2c245ae1-30f0-4e0d-b790-79b89877192c"
      },
      "execution_count": 33,
      "outputs": [
        {
          "output_type": "execute_result",
          "data": {
            "text/plain": [
              "(10, 10000)"
            ]
          },
          "metadata": {},
          "execution_count": 33
        }
      ]
    }
  ]
}